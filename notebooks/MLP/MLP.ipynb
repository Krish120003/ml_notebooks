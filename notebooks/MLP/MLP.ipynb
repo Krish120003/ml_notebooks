{
 "cells": [
  {
   "cell_type": "markdown",
   "metadata": {},
   "source": [
    "# Multi-Layer Perceptron\n",
    "\n",
    "This is a partial implementation of \"A Neural Probabilistic Language Model\" (Bengio et al., 2003). The main resource for this was the Andrej Karpathy's makemore video: https://www.youtube.com/watch?v=TCH_1BHY58I. The dataset is a list of names, stored in a file called names.txt\n",
    "\n",
    "The original video uses pytorch, but I wanted to try out tinygrad so I ported it over. The optimizer is a simple SGD, so I don't explicitly write it out and instead just use the SGD implementation from tinygrad.\n"
   ]
  },
  {
   "cell_type": "code",
   "execution_count": 1,
   "metadata": {},
   "outputs": [],
   "source": [
    "from tinygrad.tensor import Tensor\n",
    "import matplotlib.pyplot as plt\n",
    "\n",
    "%matplotlib inline\n",
    "\n",
    "DEVICE=\"METAL\""
   ]
  },
  {
   "cell_type": "markdown",
   "metadata": {},
   "source": [
    "## Load and build dataset"
   ]
  },
  {
   "cell_type": "code",
   "execution_count": 2,
   "metadata": {},
   "outputs": [
    {
     "name": "stdout",
     "output_type": "stream",
     "text": [
      "Vocabulary size: 27\n"
     ]
    },
    {
     "data": {
      "text/plain": [
       "((228146, 4), dtypes.float, (228146,), dtypes.float)"
      ]
     },
     "execution_count": 2,
     "metadata": {},
     "output_type": "execute_result"
    }
   ],
   "source": [
    "with open(\"names.txt\", \"r\") as f:\n",
    "    words = f.read().splitlines()\n",
    "\n",
    "# build vocabulary of characters from/to integers\n",
    "chars = sorted(set(\"\".join(words)))\n",
    "stoi = {ch: i+1 for i, ch in enumerate(chars)} # string to int\n",
    "# we also want to add a terminal character\n",
    "stoi[\".\"] = 0\n",
    "itos = {i: ch for ch, i in stoi.items()} # int to string\n",
    "\n",
    "print(\"Vocabulary size:\", len(stoi))\n",
    "\n",
    "# build dataset\n",
    "context_length = 4\n",
    "\n",
    "X = []\n",
    "Y = []\n",
    "\n",
    "for word in words:\n",
    "    context = [0]*context_length\n",
    "    for character in word + \".\":\n",
    "        goal = stoi[character]\n",
    "        X.append(context)\n",
    "        Y.append(goal)\n",
    "        context = context[1:] + [goal]\n",
    "\n",
    "X = Tensor(X, device=DEVICE)\n",
    "Y = Tensor(Y, device=DEVICE)\n",
    "\n",
    "X.shape, X.dtype, Y.shape, Y.dtype"
   ]
  },
  {
   "cell_type": "markdown",
   "metadata": {},
   "source": [
    "## Define Network"
   ]
  },
  {
   "cell_type": "code",
   "execution_count": 3,
   "metadata": {},
   "outputs": [
    {
     "name": "stdout",
     "output_type": "stream",
     "text": [
      "Parameters: 4535\n"
     ]
    },
    {
     "data": {
      "text/plain": [
       "[<Tensor <LB (27, 4) dtypes.float op=BinaryOps.MUL st=ShapeTracker(views=(View(shape=(27, 4), strides=(4, 1), offset=0, mask=None, contiguous=True),))> on METAL with grad None>,\n",
       " <Tensor <LB (16, 100) dtypes.float op=BinaryOps.MUL st=ShapeTracker(views=(View(shape=(16, 100), strides=(100, 1), offset=0, mask=None, contiguous=True),))> on METAL with grad None>,\n",
       " <Tensor <LB (100,) dtypes.float op=BinaryOps.MUL st=ShapeTracker(views=(View(shape=(100,), strides=(1,), offset=0, mask=None, contiguous=True),))> on METAL with grad None>,\n",
       " <Tensor <LB (100, 27) dtypes.float op=BinaryOps.MUL st=ShapeTracker(views=(View(shape=(100, 27), strides=(27, 1), offset=0, mask=None, contiguous=True),))> on METAL with grad None>,\n",
       " <Tensor <LB (27,) dtypes.float op=BinaryOps.MUL st=ShapeTracker(views=(View(shape=(27,), strides=(1,), offset=0, mask=None, contiguous=True),))> on METAL with grad None>]"
      ]
     },
     "execution_count": 3,
     "metadata": {},
     "output_type": "execute_result"
    }
   ],
   "source": [
    "# define the mapping matrix C, \n",
    "# and the respective layers\n",
    "neurons = 100\n",
    "embedding_size = 4\n",
    "\n",
    "C = Tensor.randn(27, embedding_size, device=DEVICE)\n",
    "W1 = Tensor.randn(context_length*embedding_size, neurons, device=DEVICE)\n",
    "b1 = Tensor.randn(neurons, device=DEVICE)\n",
    "W2 = Tensor.randn(neurons, 27, device=DEVICE)\n",
    "b2 = Tensor.randn(27, device=DEVICE)\n",
    "parameters = [C, W1, b1, W2, b2]\n",
    "print(\"Parameters:\", sum(p.numel() for p in parameters))\n",
    "parameters"
   ]
  },
  {
   "cell_type": "markdown",
   "metadata": {},
   "source": [
    "## Training Loop\n",
    "\n",
    "We do a forward pass, compute the loss, and then do a backward pass. \n",
    "The optimizer is a simple SGD, and updates all the parameters in the network."
   ]
  },
  {
   "cell_type": "code",
   "execution_count": 4,
   "metadata": {},
   "outputs": [
    {
     "name": "stdout",
     "output_type": "stream",
     "text": [
      "Step 0 Loss 13.237902641296387\n",
      "Step 1000 Loss 2.657078981399536\n",
      "Step 2000 Loss 2.60323166847229\n",
      "Step 3000 Loss 3.093367576599121\n",
      "Step 4000 Loss 2.5933682918548584\n",
      "Step 5000 Loss 2.905318260192871\n",
      "Step 6000 Loss 2.416839599609375\n",
      "Step 7000 Loss 2.1929683685302734\n",
      "Step 8000 Loss 2.589327096939087\n",
      "Step 9000 Loss 2.5550904273986816\n",
      "Step 10000 Loss 2.2642440795898438\n",
      "Step 11000 Loss 2.4975931644439697\n",
      "Step 12000 Loss 2.466872453689575\n",
      "Step 13000 Loss 2.409954071044922\n",
      "Step 14000 Loss 2.324544668197632\n",
      "Step 15000 Loss 2.20259428024292\n"
     ]
    }
   ],
   "source": [
    "\n",
    "LR = 0.01\n",
    "BATCH_SIZE = 32\n",
    "\n",
    "from tinygrad import nn\n",
    "optim = nn.optim.Adam(parameters, lr=LR)\n",
    "\n",
    "\n",
    "loss_over_time = []\n",
    "\n",
    "for step_num in range(15000+1):\n",
    "    # construct a minibatch\n",
    "    idx = Tensor.randint(BATCH_SIZE, low=0, high=X.shape[0], device=DEVICE)\n",
    "    idx.realize()\n",
    "\n",
    "    # forward pass\n",
    "    embeddings = C[X[idx]]\n",
    "    h = (embeddings.reshape(-1, embedding_size*context_length) @ W1 + b1).tanh()\n",
    "    logits = (h @ W2 + b2)\n",
    "\n",
    "    optim.zero_grad()\n",
    "    loss = Tensor.sparse_categorical_crossentropy(logits, Y[idx]).backward()\n",
    "    optim.step()\n",
    "\n",
    "    loss_over_time.append(loss.item())\n",
    "\n",
    "    if step_num % 1000 == 0:\n",
    "        print(\"Step\", step_num, \"Loss\", loss.item())\n",
    "\n"
   ]
  },
  {
   "cell_type": "markdown",
   "metadata": {},
   "source": [
    "## Loss over time"
   ]
  },
  {
   "cell_type": "code",
   "execution_count": 5,
   "metadata": {},
   "outputs": [
    {
     "data": {
      "text/plain": [
       "[<matplotlib.lines.Line2D at 0x11e622550>]"
      ]
     },
     "execution_count": 5,
     "metadata": {},
     "output_type": "execute_result"
    },
    {
     "data": {
      "image/png": "[encoded data removed]",
      "text/plain": [
       "<Figure size 640x480 with 1 Axes>"
      ]
     },
     "metadata": {},
     "output_type": "display_data"
    }
   ],
   "source": [
    "# Plot the loss over time\n",
    "plt.yscale(\"log\")\n",
    "plt.plot(loss_over_time)"
   ]
  },
  {
   "cell_type": "code",
   "execution_count": 6,
   "metadata": {},
   "outputs": [
    {
     "name": "stdout",
     "output_type": "stream",
     "text": [
      "Final loss: 2.311339855194092\n"
     ]
    }
   ],
   "source": [
    "# Print the final loss over the entire dataset\n",
    "logits = (C[X].reshape(-1, embedding_size*context_length) @ W1 + b1).tanh() @ W2 + b2\n",
    "loss = Tensor.sparse_categorical_crossentropy(logits, Y)\n",
    "print(\"Final loss:\", loss.item())"
   ]
  },
  {
   "cell_type": "markdown",
   "metadata": {},
   "source": [
    "## Inference"
   ]
  },
  {
   "cell_type": "code",
   "execution_count": 7,
   "metadata": {},
   "outputs": [
    {
     "name": "stdout",
     "output_type": "stream",
     "text": [
      "Generating 10 random names:\n",
      "tiriilla\n",
      "ghaghasyanya\n",
      "charyallyyaliida\n",
      "ceimra\n",
      "yani\n",
      "nyke\n",
      "craileye\n",
      "seree\n",
      "ykeleas\n",
      "kadireany\n"
     ]
    }
   ],
   "source": [
    "# lets do inference\n",
    "\n",
    "print(\"Generating 10 random names:\")\n",
    "for i in range(10):\n",
    "    context = [0] * context_length\n",
    "    name = \"\"\n",
    "    while True:\n",
    "        # forward pass\n",
    "        embeddings = C[Tensor(context)]\n",
    "        h = (embeddings.reshape(-1, embedding_size*context_length) @ W1 + b1).tanh()\n",
    "        logits = (h @ W2 + b2)\n",
    "        probs = logits.softmax()\n",
    "        pred = probs.multinomial(1).item()\n",
    "        if pred == 0: # the period\n",
    "            break\n",
    "        name += itos[pred]\n",
    "        context = context[1:] + [pred]\n",
    "\n",
    "    print(name)"
   ]
  }
 ],
 "metadata": {
  "kernelspec": {
   "display_name": ".venv",
   "language": "python",
   "name": "python3"
  },
  "language_info": {
   "codemirror_mode": {
    "name": "ipython",
    "version": 3
   },
   "file_extension": ".py",
   "mimetype": "text/x-python",
   "name": "python",
   "nbconvert_exporter": "python",
   "pygments_lexer": "ipython3",
   "version": "3.11.5"
  }
 },
 "nbformat": 4,
 "nbformat_minor": 2
}
